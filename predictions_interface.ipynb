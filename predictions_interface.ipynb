{
 "cells": [
  {
   "cell_type": "code",
   "execution_count": null,
   "metadata": {},
   "outputs": [],
   "source": [
    "import gradio as gr\n",
    "import numpy as np\n",
    "import pandas as pd\n",
    "from sklearn.model_selection import train_test_split\n",
    "from sklearn.linear_model import LogisticRegression\n",
    "from sklearn.metrics import confusion_matrix, classification_report\n",
    "import warnings\n",
    "# Ignore all warnings\n",
    "warnings.filterwarnings(\"ignore\")\n",
    "# Load Data\n",
    "df_lending_data = pd.read_csv(\"Resources/lending_data.csv\")\n",
    "# Prepare Features and Labels\n",
    "y = df_lending_data['loan_status']\n",
    "X = df_lending_data.drop(columns=['loan_status'])\n",
    "# Split Data\n",
    "X_train, X_test, y_train, y_test = train_test_split(X, y, random_state=1)\n",
    "# Train Logistic Regression Model\n",
    "model = LogisticRegression(max_iter=200, random_state=1)\n",
    "model.fit(X_train, y_train)\n",
    "# Gradio Function for Prediction\n",
    "def predict_loan_status(loan_size, interest_rate, borrower_income, debt_to_income, num_of_accounts, derogatory_marks, total_debt):\n",
    "    input_data = pd.DataFrame({\n",
    "        'loan_size': [loan_size],\n",
    "        'interest_rate': [interest_rate],\n",
    "        'borrower_income': [borrower_income],\n",
    "        'debt_to_income': [debt_to_income],\n",
    "        'num_of_accounts': [num_of_accounts],\n",
    "        'derogatory_marks': [derogatory_marks],\n",
    "        'total_debt': [total_debt]\n",
    "    })\n",
    "    prediction = model.predict(input_data)\n",
    "    return \"Healthy Loan (0)\" if prediction[0] == 0 else \"High-Risk Loan (1)\"\n",
    "# Gradio Interface\n",
    "interface = gr.Interface(\n",
    "    fn=predict_loan_status,\n",
    "    inputs=[\n",
    "        gr.Number(label=\"Loan Size\"),\n",
    "        gr.Number(label=\"Interest Rate\"),\n",
    "        gr.Number(label=\"Borrower Income\"),\n",
    "        gr.Number(label=\"Debt-to-Income Ratio\"),\n",
    "        gr.Number(label=\"Number of Accounts\"),\n",
    "        gr.Number(label=\"Derogatory Marks\"),\n",
    "        gr.Number(label=\"Total Debt\"),\n",
    "    ],\n",
    "    outputs=\"text\",\n",
    "    title=\"Loan Status Prediction\",\n",
    "    description=\"Input loan details to predict whether the loan is healthy or high-risk.\"\n",
    ")\n",
    "# Launch the Interface\n",
    "interface.launch()"
   ]
  }
 ],
 "metadata": {
  "kernelspec": {
   "display_name": "dev",
   "language": "python",
   "name": "python3"
  },
  "language_info": {
   "name": "python",
   "version": "3.10.14"
  }
 },
 "nbformat": 4,
 "nbformat_minor": 2
}
